{
  "nbformat": 4,
  "nbformat_minor": 0,
  "metadata": {
    "colab": {
      "name": "car price pred .ipynb",
      "provenance": []
    },
    "kernelspec": {
      "name": "python3",
      "display_name": "Python 3"
    }
  },
  "cells": [
    {
      "cell_type": "code",
      "metadata": {
        "id": "ujwhR3kq60hV",
        "outputId": "c445e48d-d706-4583-bd62-ba05a1ba9a8f",
        "colab": {
          "base_uri": "https://localhost:8080/"
        }
      },
      "source": [
        "from google.colab import drive \n",
        "\n",
        "drive.mount('/content/drive' ,)"
      ],
      "execution_count": null,
      "outputs": [
        {
          "output_type": "stream",
          "text": [
            "Mounted at /content/drive\n"
          ],
          "name": "stdout"
        }
      ]
    },
    {
      "cell_type": "code",
      "metadata": {
        "id": "phpvyP_K7BKG",
        "outputId": "e3560efa-d7a0-4f24-fff1-65870612dccd",
        "colab": {
          "base_uri": "https://localhost:8080/"
        }
      },
      "source": [
        "!unzip \"/content/archive.zip\" -d \"/content/drive/My Drive/\""
      ],
      "execution_count": null,
      "outputs": [
        {
          "output_type": "stream",
          "text": [
            "Archive:  /content/archive.zip\n",
            "  inflating: /content/drive/My Drive/CAR DETAILS FROM CAR DEKHO.csv  \n",
            "  inflating: /content/drive/My Drive/Car details v3.csv  \n",
            "  inflating: /content/drive/My Drive/car data.csv  \n"
          ],
          "name": "stdout"
        }
      ]
    },
    {
      "cell_type": "code",
      "metadata": {
        "id": "Z_xnA29P73KV"
      },
      "source": [
        "import pandas as pd\n",
        "df = pd.read_csv('/content/drive/My Drive/car_price/car data.csv')"
      ],
      "execution_count": null,
      "outputs": []
    },
    {
      "cell_type": "code",
      "metadata": {
        "id": "_uYEwBWp82qO"
      },
      "source": [
        "col = df.columns"
      ],
      "execution_count": null,
      "outputs": []
    },
    {
      "cell_type": "code",
      "metadata": {
        "id": "Sv5wxlyo-C6k",
        "outputId": "74859d43-4cbf-410e-c494-7b862580ce70",
        "colab": {
          "base_uri": "https://localhost:8080/"
        }
      },
      "source": [
        "!pip install dtale"
      ],
      "execution_count": null,
      "outputs": [
        {
          "output_type": "stream",
          "text": [
            "Collecting dtale\n",
            "\u001b[?25l  Downloading https://files.pythonhosted.org/packages/05/3a/5e5b999fae38238ef600ed42ca9ae2f5be58e6841445cd4cffa8bced0324/dtale-1.21.1-py2.py3-none-any.whl (7.7MB)\n",
            "\u001b[K     |████████████████████████████████| 7.7MB 4.2MB/s \n",
            "\u001b[?25hRequirement already satisfied: six in /usr/local/lib/python3.6/dist-packages (from dtale) (1.15.0)\n",
            "Collecting kaleido\n",
            "\u001b[?25l  Downloading https://files.pythonhosted.org/packages/7c/26/cc562909fe6838ee3a98c0b2f83e79cbe2dbea8cddb7f3445fd347253d8e/kaleido-0.0.3.post1-py2.py3-none-manylinux1_x86_64.whl (74.0MB)\n",
            "\u001b[K     |████████████████████████████████| 74.0MB 81kB/s \n",
            "\u001b[?25hCollecting dash-colorscales\n",
            "\u001b[?25l  Downloading https://files.pythonhosted.org/packages/d5/24/de9318acd52989d77135a8497c8be536442b725473684ed4e1ab999b2051/dash_colorscales-0.0.4.tar.gz (62kB)\n",
            "\u001b[K     |████████████████████████████████| 71kB 8.2MB/s \n",
            "\u001b[?25hRequirement already satisfied: scikit-learn>='0.21.0 in /usr/local/lib/python3.6/dist-packages (from dtale) (0.22.2.post1)\n",
            "Collecting strsimpy\n",
            "\u001b[?25l  Downloading https://files.pythonhosted.org/packages/1e/c7/a957569f1ccfdff4e1886d571369318f1656e1372e287e880be1f495de04/strsimpy-0.1.9-py3-none-any.whl (45kB)\n",
            "\u001b[K     |████████████████████████████████| 51kB 5.2MB/s \n",
            "\u001b[?25hCollecting dash>=1.5.0\n",
            "\u001b[?25l  Downloading https://files.pythonhosted.org/packages/69/91/ae029886dda55b93b60ac04377bcb2ab9209dd73244e3b5e513124cc6778/dash-1.17.0.tar.gz (75kB)\n",
            "\u001b[K     |████████████████████████████████| 81kB 8.8MB/s \n",
            "\u001b[?25hRequirement already satisfied: requests in /usr/local/lib/python3.6/dist-packages (from dtale) (2.23.0)\n",
            "Requirement already satisfied: pandas in /usr/local/lib/python3.6/dist-packages (from dtale) (1.1.4)\n",
            "Collecting dash-daq\n",
            "\u001b[?25l  Downloading https://files.pythonhosted.org/packages/16/c1/9c6adfc3646990965a5b2ca073f579cc9c09d15553fcfcd83aefd1255494/dash_daq-0.5.0.tar.gz (642kB)\n",
            "\u001b[K     |████████████████████████████████| 645kB 41.1MB/s \n",
            "\u001b[?25hCollecting plotly>=4.9.0\n",
            "\u001b[?25l  Downloading https://files.pythonhosted.org/packages/a6/66/af86e9d9bf1a3e4f2dabebeabd02a32e8ddf671a5d072b3af2b011efea99/plotly-4.12.0-py2.py3-none-any.whl (13.1MB)\n",
            "\u001b[K     |████████████████████████████████| 13.1MB 37.9MB/s \n",
            "\u001b[?25hCollecting dash-bootstrap-components; python_version > \"3.0\"\n",
            "\u001b[?25l  Downloading https://files.pythonhosted.org/packages/97/23/fc5bcf440d26725b809daf61e5e919a9e63f0aa993d0a5c0d54920705b75/dash_bootstrap_components-0.10.7-py2.py3-none-any.whl (185kB)\n",
            "\u001b[K     |████████████████████████████████| 194kB 39.0MB/s \n",
            "\u001b[?25hRequirement already satisfied: Flask>=1.0 in /usr/local/lib/python3.6/dist-packages (from dtale) (1.1.2)\n",
            "Collecting squarify\n",
            "  Downloading https://files.pythonhosted.org/packages/0b/2b/2e77c35326efec19819cd1d729540d4d235e6c2a3f37658288a363a67da5/squarify-0.4.3-py3-none-any.whl\n",
            "Requirement already satisfied: xarray in /usr/local/lib/python3.6/dist-packages (from dtale) (0.15.1)\n",
            "Collecting Flask-Compress\n",
            "  Downloading https://files.pythonhosted.org/packages/eb/33/7bcfc1d240bf4cf701cc742716a3af95b9df5b26d605559ea029b6ffa04f/Flask-Compress-1.8.0.tar.gz\n",
            "Requirement already satisfied: statsmodels in /usr/local/lib/python3.6/dist-packages (from dtale) (0.10.2)\n",
            "Requirement already satisfied: future>=0.14.0 in /usr/local/lib/python3.6/dist-packages (from dtale) (0.16.0)\n",
            "Collecting lz4; python_version > \"3.0\"\n",
            "\u001b[?25l  Downloading https://files.pythonhosted.org/packages/15/6a/ea95dd9a9957143636cfad5037637abec91016b9bde519d3edf4708e3d83/lz4-3.1.0-cp36-cp36m-manylinux2010_x86_64.whl (1.8MB)\n",
            "\u001b[K     |████████████████████████████████| 1.8MB 39.0MB/s \n",
            "\u001b[?25hRequirement already satisfied: itsdangerous in /usr/local/lib/python3.6/dist-packages (from dtale) (1.1.0)\n",
            "Collecting flask-ngrok; python_version > \"3.0\"\n",
            "  Downloading https://files.pythonhosted.org/packages/af/6c/f54cb686ad1129e27d125d182f90f52b32f284e6c8df58c1bae54fa1adbc/flask_ngrok-0.0.25-py3-none-any.whl\n",
            "Requirement already satisfied: scipy in /usr/local/lib/python3.6/dist-packages (from dtale) (1.4.1)\n",
            "Requirement already satisfied: joblib>=0.11 in /usr/local/lib/python3.6/dist-packages (from scikit-learn>='0.21.0->dtale) (0.17.0)\n",
            "Requirement already satisfied: numpy>=1.11.0 in /usr/local/lib/python3.6/dist-packages (from scikit-learn>='0.21.0->dtale) (1.18.5)\n",
            "Collecting dash_renderer==1.8.3\n",
            "\u001b[?25l  Downloading https://files.pythonhosted.org/packages/72/fe/59a322edb128ad15205002c7b81e3f5e580f6791c4a100183289e05dbfcb/dash_renderer-1.8.3.tar.gz (1.0MB)\n",
            "\u001b[K     |████████████████████████████████| 1.0MB 44.8MB/s \n",
            "\u001b[?25hCollecting dash-core-components==1.13.0\n",
            "\u001b[?25l  Downloading https://files.pythonhosted.org/packages/52/48/3dd8c7bf93cff3a9dd9d360bc25c4ec0cb191acdce13375c3ff85f98e992/dash_core_components-1.13.0.tar.gz (3.5MB)\n",
            "\u001b[K     |████████████████████████████████| 3.5MB 38.6MB/s \n",
            "\u001b[?25hCollecting dash-html-components==1.1.1\n",
            "\u001b[?25l  Downloading https://files.pythonhosted.org/packages/02/ba/bb9427c62feb25bfbaf243894eeeb4e7c67a92b426ed0575a167100e436e/dash_html_components-1.1.1.tar.gz (188kB)\n",
            "\u001b[K     |████████████████████████████████| 194kB 45.2MB/s \n",
            "\u001b[?25hCollecting dash-table==4.11.0\n",
            "\u001b[?25l  Downloading https://files.pythonhosted.org/packages/bb/46/cc839f897cabea3f584cf59ce9d86a5ea3828e54eefe2537ba8b640a9707/dash_table-4.11.0.tar.gz (1.8MB)\n",
            "\u001b[K     |████████████████████████████████| 1.8MB 35.9MB/s \n",
            "\u001b[?25hRequirement already satisfied: certifi>=2017.4.17 in /usr/local/lib/python3.6/dist-packages (from requests->dtale) (2020.6.20)\n",
            "Requirement already satisfied: idna<3,>=2.5 in /usr/local/lib/python3.6/dist-packages (from requests->dtale) (2.10)\n",
            "Requirement already satisfied: urllib3!=1.25.0,!=1.25.1,<1.26,>=1.21.1 in /usr/local/lib/python3.6/dist-packages (from requests->dtale) (1.24.3)\n",
            "Requirement already satisfied: chardet<4,>=3.0.2 in /usr/local/lib/python3.6/dist-packages (from requests->dtale) (3.0.4)\n",
            "Requirement already satisfied: pytz>=2017.2 in /usr/local/lib/python3.6/dist-packages (from pandas->dtale) (2018.9)\n",
            "Requirement already satisfied: python-dateutil>=2.7.3 in /usr/local/lib/python3.6/dist-packages (from pandas->dtale) (2.8.1)\n",
            "Requirement already satisfied: retrying>=1.3.3 in /usr/local/lib/python3.6/dist-packages (from plotly>=4.9.0->dtale) (1.3.3)\n",
            "Requirement already satisfied: Werkzeug>=0.15 in /usr/local/lib/python3.6/dist-packages (from Flask>=1.0->dtale) (1.0.1)\n",
            "Requirement already satisfied: Jinja2>=2.10.1 in /usr/local/lib/python3.6/dist-packages (from Flask>=1.0->dtale) (2.11.2)\n",
            "Requirement already satisfied: click>=5.1 in /usr/local/lib/python3.6/dist-packages (from Flask>=1.0->dtale) (7.1.2)\n",
            "Requirement already satisfied: setuptools>=41.2 in /usr/local/lib/python3.6/dist-packages (from xarray->dtale) (50.3.2)\n",
            "Collecting brotli\n",
            "\u001b[?25l  Downloading https://files.pythonhosted.org/packages/b4/d3/7c98f05b7b9103e2f3a112ba42f269c798155b3e5404fb80bb8f823aaebe/Brotli-1.0.9-cp36-cp36m-manylinux1_x86_64.whl (357kB)\n",
            "\u001b[K     |████████████████████████████████| 358kB 40.7MB/s \n",
            "\u001b[?25hRequirement already satisfied: patsy>=0.4.0 in /usr/local/lib/python3.6/dist-packages (from statsmodels->dtale) (0.5.1)\n",
            "Requirement already satisfied: MarkupSafe>=0.23 in /usr/local/lib/python3.6/dist-packages (from Jinja2>=2.10.1->Flask>=1.0->dtale) (1.1.1)\n",
            "Building wheels for collected packages: dash-colorscales, dash, dash-daq, Flask-Compress, dash-renderer, dash-core-components, dash-html-components, dash-table\n",
            "  Building wheel for dash-colorscales (setup.py) ... \u001b[?25l\u001b[?25hdone\n",
            "  Created wheel for dash-colorscales: filename=dash_colorscales-0.0.4-cp36-none-any.whl size=62599 sha256=5b355f171953249da32373dd1585a65ee215f88f38b61abfd8033b580d39cb44\n",
            "  Stored in directory: /root/.cache/pip/wheels/0e/4a/1c/3490cfe6a59299b06917af6626a969c8fb7caead39b2d74cf2\n",
            "  Building wheel for dash (setup.py) ... \u001b[?25l\u001b[?25hdone\n",
            "  Created wheel for dash: filename=dash-1.17.0-cp36-none-any.whl size=83728 sha256=5e3e4bc7ce4eaf377e9e723c743822ea59b7aec265463f836fd5364ac4d3a5cc\n",
            "  Stored in directory: /root/.cache/pip/wheels/e0/32/13/8a569b638a79cf80a4a721f56040d91198adec28e3bc8123fc\n",
            "  Building wheel for dash-daq (setup.py) ... \u001b[?25l\u001b[?25hdone\n",
            "  Created wheel for dash-daq: filename=dash_daq-0.5.0-cp36-none-any.whl size=669704 sha256=eb4f0b1f2658e18e2dade1f679a7643fed983ecc7e5ec1f02894e26668ceaaf2\n",
            "  Stored in directory: /root/.cache/pip/wheels/1c/9c/f7/84731716eaa9fc952cdbdd1f87df3ca9b8805c317c609efcd6\n",
            "  Building wheel for Flask-Compress (setup.py) ... \u001b[?25l\u001b[?25hdone\n",
            "  Created wheel for Flask-Compress: filename=Flask_Compress-1.8.0-cp36-none-any.whl size=7215 sha256=c590f49a551ba9f1682c27e08485231091d985e5d5e2cd329c089ac1f9e96ae2\n",
            "  Stored in directory: /root/.cache/pip/wheels/f9/aa/e9/c4b763ea17eb0662124f67924cbfb9ee0efa83e28f6131baec\n",
            "  Building wheel for dash-renderer (setup.py) ... \u001b[?25l\u001b[?25hdone\n",
            "  Created wheel for dash-renderer: filename=dash_renderer-1.8.3-cp36-none-any.whl size=1013944 sha256=c559e33732853092e5ab92fc4c072f552f6f8fcf3295e6652464e903b8c29adb\n",
            "  Stored in directory: /root/.cache/pip/wheels/cf/2b/5f/0928a6d1b7ebf280f21a2e925f36d662e6ba83e00b82c6b6bf\n",
            "  Building wheel for dash-core-components (setup.py) ... \u001b[?25l\u001b[?25hdone\n",
            "  Created wheel for dash-core-components: filename=dash_core_components-1.13.0-cp36-none-any.whl size=3513142 sha256=b4e3c38eca09c8b9c05c58bb932b7ea018622a1f9244135b6ecb9205013d5a9d\n",
            "  Stored in directory: /root/.cache/pip/wheels/44/d9/90/177214625a5b5f6440b24ea807550e07fbf439a495eee4dd36\n",
            "  Building wheel for dash-html-components (setup.py) ... \u001b[?25l\u001b[?25hdone\n",
            "  Created wheel for dash-html-components: filename=dash_html_components-1.1.1-cp36-none-any.whl size=427894 sha256=185fcf83a04cf3da56dbe721e4093b2a65decb9f61f09446b5f070571b3a53d4\n",
            "  Stored in directory: /root/.cache/pip/wheels/8d/01/46/78e4de185a8a4a2da8ba31da16c52170f036d4cebeeb6e07a2\n",
            "  Building wheel for dash-table (setup.py) ... \u001b[?25l\u001b[?25hdone\n",
            "  Created wheel for dash-table: filename=dash_table-4.11.0-cp36-none-any.whl size=1839767 sha256=8748ab895dd3e4b7e8981bb7a7e8b53827a45d698f35ebb293e8bc78003e096f\n",
            "  Stored in directory: /root/.cache/pip/wheels/ca/37/90/bd45dcc5d6acbe6ac53f753a8f1732ecf5270017372e389cd8\n",
            "Successfully built dash-colorscales dash dash-daq Flask-Compress dash-renderer dash-core-components dash-html-components dash-table\n",
            "Installing collected packages: kaleido, dash-colorscales, strsimpy, brotli, Flask-Compress, plotly, dash-renderer, dash-core-components, dash-html-components, dash-table, dash, dash-daq, dash-bootstrap-components, squarify, lz4, flask-ngrok, dtale\n",
            "  Found existing installation: plotly 4.4.1\n",
            "    Uninstalling plotly-4.4.1:\n",
            "      Successfully uninstalled plotly-4.4.1\n",
            "Successfully installed Flask-Compress-1.8.0 brotli-1.0.9 dash-1.17.0 dash-bootstrap-components-0.10.7 dash-colorscales-0.0.4 dash-core-components-1.13.0 dash-daq-0.5.0 dash-html-components-1.1.1 dash-renderer-1.8.3 dash-table-4.11.0 dtale-1.21.1 flask-ngrok-0.0.25 kaleido-0.0.3.post1 lz4-3.1.0 plotly-4.12.0 squarify-0.4.3 strsimpy-0.1.9\n"
          ],
          "name": "stdout"
        }
      ]
    },
    {
      "cell_type": "code",
      "metadata": {
        "id": "UyYhvBge-0yU"
      },
      "source": [
        "import seaborn as sns \n",
        "import numpy as np"
      ],
      "execution_count": null,
      "outputs": []
    },
    {
      "cell_type": "code",
      "metadata": {
        "id": "fU-oRTiAAKnG",
        "outputId": "c0eaa8a1-bcc2-4495-bb85-493b2f9918a6",
        "colab": {
          "base_uri": "https://localhost:8080/"
        }
      },
      "source": [
        "df.isnull().sum()"
      ],
      "execution_count": null,
      "outputs": [
        {
          "output_type": "execute_result",
          "data": {
            "text/plain": [
              "Car_Name         0\n",
              "Year             0\n",
              "Selling_Price    0\n",
              "Present_Price    0\n",
              "Kms_Driven       0\n",
              "Fuel_Type        0\n",
              "Seller_Type      0\n",
              "Transmission     0\n",
              "Owner            0\n",
              "dtype: int64"
            ]
          },
          "metadata": {
            "tags": []
          },
          "execution_count": 5
        }
      ]
    },
    {
      "cell_type": "code",
      "metadata": {
        "id": "VC59hNPwEYcc",
        "outputId": "5210837a-8973-48dd-d5e8-f7536b4b5794",
        "colab": {
          "base_uri": "https://localhost:8080/",
          "height": 317
        }
      },
      "source": [
        "df.describe()"
      ],
      "execution_count": null,
      "outputs": [
        {
          "output_type": "execute_result",
          "data": {
            "text/html": [
              "<div>\n",
              "<style scoped>\n",
              "    .dataframe tbody tr th:only-of-type {\n",
              "        vertical-align: middle;\n",
              "    }\n",
              "\n",
              "    .dataframe tbody tr th {\n",
              "        vertical-align: top;\n",
              "    }\n",
              "\n",
              "    .dataframe thead th {\n",
              "        text-align: right;\n",
              "    }\n",
              "</style>\n",
              "<table border=\"1\" class=\"dataframe\">\n",
              "  <thead>\n",
              "    <tr style=\"text-align: right;\">\n",
              "      <th></th>\n",
              "      <th>Year</th>\n",
              "      <th>Present_Price</th>\n",
              "      <th>Kms_Driven</th>\n",
              "      <th>Owner</th>\n",
              "      <th>Fuel_Type_Diesel</th>\n",
              "      <th>Fuel_Type_Petrol</th>\n",
              "      <th>Seller_Type_Individual</th>\n",
              "      <th>Transmission_Manual</th>\n",
              "    </tr>\n",
              "  </thead>\n",
              "  <tbody>\n",
              "    <tr>\n",
              "      <th>count</th>\n",
              "      <td>301.000000</td>\n",
              "      <td>301.000000</td>\n",
              "      <td>301.000000</td>\n",
              "      <td>301.000000</td>\n",
              "      <td>301.000000</td>\n",
              "      <td>301.000000</td>\n",
              "      <td>301.000000</td>\n",
              "      <td>301.000000</td>\n",
              "    </tr>\n",
              "    <tr>\n",
              "      <th>mean</th>\n",
              "      <td>6.372093</td>\n",
              "      <td>7.628472</td>\n",
              "      <td>36947.205980</td>\n",
              "      <td>0.043189</td>\n",
              "      <td>0.199336</td>\n",
              "      <td>0.794020</td>\n",
              "      <td>0.352159</td>\n",
              "      <td>0.867110</td>\n",
              "    </tr>\n",
              "    <tr>\n",
              "      <th>std</th>\n",
              "      <td>2.891554</td>\n",
              "      <td>8.644115</td>\n",
              "      <td>38886.883882</td>\n",
              "      <td>0.247915</td>\n",
              "      <td>0.400166</td>\n",
              "      <td>0.405089</td>\n",
              "      <td>0.478439</td>\n",
              "      <td>0.340021</td>\n",
              "    </tr>\n",
              "    <tr>\n",
              "      <th>min</th>\n",
              "      <td>2.000000</td>\n",
              "      <td>0.320000</td>\n",
              "      <td>500.000000</td>\n",
              "      <td>0.000000</td>\n",
              "      <td>0.000000</td>\n",
              "      <td>0.000000</td>\n",
              "      <td>0.000000</td>\n",
              "      <td>0.000000</td>\n",
              "    </tr>\n",
              "    <tr>\n",
              "      <th>25%</th>\n",
              "      <td>4.000000</td>\n",
              "      <td>1.200000</td>\n",
              "      <td>15000.000000</td>\n",
              "      <td>0.000000</td>\n",
              "      <td>0.000000</td>\n",
              "      <td>1.000000</td>\n",
              "      <td>0.000000</td>\n",
              "      <td>1.000000</td>\n",
              "    </tr>\n",
              "    <tr>\n",
              "      <th>50%</th>\n",
              "      <td>6.000000</td>\n",
              "      <td>6.400000</td>\n",
              "      <td>32000.000000</td>\n",
              "      <td>0.000000</td>\n",
              "      <td>0.000000</td>\n",
              "      <td>1.000000</td>\n",
              "      <td>0.000000</td>\n",
              "      <td>1.000000</td>\n",
              "    </tr>\n",
              "    <tr>\n",
              "      <th>75%</th>\n",
              "      <td>8.000000</td>\n",
              "      <td>9.900000</td>\n",
              "      <td>48767.000000</td>\n",
              "      <td>0.000000</td>\n",
              "      <td>0.000000</td>\n",
              "      <td>1.000000</td>\n",
              "      <td>1.000000</td>\n",
              "      <td>1.000000</td>\n",
              "    </tr>\n",
              "    <tr>\n",
              "      <th>max</th>\n",
              "      <td>17.000000</td>\n",
              "      <td>92.600000</td>\n",
              "      <td>500000.000000</td>\n",
              "      <td>3.000000</td>\n",
              "      <td>1.000000</td>\n",
              "      <td>1.000000</td>\n",
              "      <td>1.000000</td>\n",
              "      <td>1.000000</td>\n",
              "    </tr>\n",
              "  </tbody>\n",
              "</table>\n",
              "</div>"
            ],
            "text/plain": [
              "             Year  Present_Price  ...  Seller_Type_Individual  Transmission_Manual\n",
              "count  301.000000     301.000000  ...              301.000000           301.000000\n",
              "mean     6.372093       7.628472  ...                0.352159             0.867110\n",
              "std      2.891554       8.644115  ...                0.478439             0.340021\n",
              "min      2.000000       0.320000  ...                0.000000             0.000000\n",
              "25%      4.000000       1.200000  ...                0.000000             1.000000\n",
              "50%      6.000000       6.400000  ...                0.000000             1.000000\n",
              "75%      8.000000       9.900000  ...                1.000000             1.000000\n",
              "max     17.000000      92.600000  ...                1.000000             1.000000\n",
              "\n",
              "[8 rows x 8 columns]"
            ]
          },
          "metadata": {
            "tags": []
          },
          "execution_count": 47
        }
      ]
    },
    {
      "cell_type": "code",
      "metadata": {
        "id": "oTfK3gGrEe4Z",
        "outputId": "672eea19-bc9c-4e36-e103-ec89f37cdab9",
        "colab": {
          "base_uri": "https://localhost:8080/",
          "height": 204
        }
      },
      "source": [
        "df.head()"
      ],
      "execution_count": null,
      "outputs": [
        {
          "output_type": "execute_result",
          "data": {
            "text/html": [
              "<div>\n",
              "<style scoped>\n",
              "    .dataframe tbody tr th:only-of-type {\n",
              "        vertical-align: middle;\n",
              "    }\n",
              "\n",
              "    .dataframe tbody tr th {\n",
              "        vertical-align: top;\n",
              "    }\n",
              "\n",
              "    .dataframe thead th {\n",
              "        text-align: right;\n",
              "    }\n",
              "</style>\n",
              "<table border=\"1\" class=\"dataframe\">\n",
              "  <thead>\n",
              "    <tr style=\"text-align: right;\">\n",
              "      <th></th>\n",
              "      <th>Car_Name</th>\n",
              "      <th>Year</th>\n",
              "      <th>Selling_Price</th>\n",
              "      <th>Present_Price</th>\n",
              "      <th>Kms_Driven</th>\n",
              "      <th>Fuel_Type</th>\n",
              "      <th>Seller_Type</th>\n",
              "      <th>Transmission</th>\n",
              "      <th>Owner</th>\n",
              "    </tr>\n",
              "  </thead>\n",
              "  <tbody>\n",
              "    <tr>\n",
              "      <th>0</th>\n",
              "      <td>ritz</td>\n",
              "      <td>2014</td>\n",
              "      <td>3.35</td>\n",
              "      <td>5.59</td>\n",
              "      <td>27000</td>\n",
              "      <td>Petrol</td>\n",
              "      <td>Dealer</td>\n",
              "      <td>Manual</td>\n",
              "      <td>0</td>\n",
              "    </tr>\n",
              "    <tr>\n",
              "      <th>1</th>\n",
              "      <td>sx4</td>\n",
              "      <td>2013</td>\n",
              "      <td>4.75</td>\n",
              "      <td>9.54</td>\n",
              "      <td>43000</td>\n",
              "      <td>Diesel</td>\n",
              "      <td>Dealer</td>\n",
              "      <td>Manual</td>\n",
              "      <td>0</td>\n",
              "    </tr>\n",
              "    <tr>\n",
              "      <th>2</th>\n",
              "      <td>ciaz</td>\n",
              "      <td>2017</td>\n",
              "      <td>7.25</td>\n",
              "      <td>9.85</td>\n",
              "      <td>6900</td>\n",
              "      <td>Petrol</td>\n",
              "      <td>Dealer</td>\n",
              "      <td>Manual</td>\n",
              "      <td>0</td>\n",
              "    </tr>\n",
              "    <tr>\n",
              "      <th>3</th>\n",
              "      <td>wagon r</td>\n",
              "      <td>2011</td>\n",
              "      <td>2.85</td>\n",
              "      <td>4.15</td>\n",
              "      <td>5200</td>\n",
              "      <td>Petrol</td>\n",
              "      <td>Dealer</td>\n",
              "      <td>Manual</td>\n",
              "      <td>0</td>\n",
              "    </tr>\n",
              "    <tr>\n",
              "      <th>4</th>\n",
              "      <td>swift</td>\n",
              "      <td>2014</td>\n",
              "      <td>4.60</td>\n",
              "      <td>6.87</td>\n",
              "      <td>42450</td>\n",
              "      <td>Diesel</td>\n",
              "      <td>Dealer</td>\n",
              "      <td>Manual</td>\n",
              "      <td>0</td>\n",
              "    </tr>\n",
              "  </tbody>\n",
              "</table>\n",
              "</div>"
            ],
            "text/plain": [
              "  Car_Name  Year  Selling_Price  ...  Seller_Type  Transmission Owner\n",
              "0     ritz  2014           3.35  ...       Dealer        Manual     0\n",
              "1      sx4  2013           4.75  ...       Dealer        Manual     0\n",
              "2     ciaz  2017           7.25  ...       Dealer        Manual     0\n",
              "3  wagon r  2011           2.85  ...       Dealer        Manual     0\n",
              "4    swift  2014           4.60  ...       Dealer        Manual     0\n",
              "\n",
              "[5 rows x 9 columns]"
            ]
          },
          "metadata": {
            "tags": []
          },
          "execution_count": 23
        }
      ]
    },
    {
      "cell_type": "code",
      "metadata": {
        "id": "zrqUSZp6EyM_"
      },
      "source": [
        "del df[col[0]]"
      ],
      "execution_count": null,
      "outputs": []
    },
    {
      "cell_type": "code",
      "metadata": {
        "id": "o5Pa7qwKFhmX"
      },
      "source": [
        "df[col[1]] = 2020 - df[col[1]]"
      ],
      "execution_count": null,
      "outputs": []
    },
    {
      "cell_type": "code",
      "metadata": {
        "id": "P22zUW6MFoNZ",
        "outputId": "7684b694-23c9-4dff-fa52-bd5380ef0c37",
        "colab": {
          "base_uri": "https://localhost:8080/",
          "height": 204
        }
      },
      "source": [
        "df.head()"
      ],
      "execution_count": null,
      "outputs": [
        {
          "output_type": "execute_result",
          "data": {
            "text/html": [
              "<div>\n",
              "<style scoped>\n",
              "    .dataframe tbody tr th:only-of-type {\n",
              "        vertical-align: middle;\n",
              "    }\n",
              "\n",
              "    .dataframe tbody tr th {\n",
              "        vertical-align: top;\n",
              "    }\n",
              "\n",
              "    .dataframe thead th {\n",
              "        text-align: right;\n",
              "    }\n",
              "</style>\n",
              "<table border=\"1\" class=\"dataframe\">\n",
              "  <thead>\n",
              "    <tr style=\"text-align: right;\">\n",
              "      <th></th>\n",
              "      <th>Year</th>\n",
              "      <th>Selling_Price</th>\n",
              "      <th>Present_Price</th>\n",
              "      <th>Kms_Driven</th>\n",
              "      <th>Fuel_Type</th>\n",
              "      <th>Seller_Type</th>\n",
              "      <th>Transmission</th>\n",
              "      <th>Owner</th>\n",
              "    </tr>\n",
              "  </thead>\n",
              "  <tbody>\n",
              "    <tr>\n",
              "      <th>0</th>\n",
              "      <td>6</td>\n",
              "      <td>3.35</td>\n",
              "      <td>5.59</td>\n",
              "      <td>27000</td>\n",
              "      <td>Petrol</td>\n",
              "      <td>Dealer</td>\n",
              "      <td>Manual</td>\n",
              "      <td>0</td>\n",
              "    </tr>\n",
              "    <tr>\n",
              "      <th>1</th>\n",
              "      <td>7</td>\n",
              "      <td>4.75</td>\n",
              "      <td>9.54</td>\n",
              "      <td>43000</td>\n",
              "      <td>Diesel</td>\n",
              "      <td>Dealer</td>\n",
              "      <td>Manual</td>\n",
              "      <td>0</td>\n",
              "    </tr>\n",
              "    <tr>\n",
              "      <th>2</th>\n",
              "      <td>3</td>\n",
              "      <td>7.25</td>\n",
              "      <td>9.85</td>\n",
              "      <td>6900</td>\n",
              "      <td>Petrol</td>\n",
              "      <td>Dealer</td>\n",
              "      <td>Manual</td>\n",
              "      <td>0</td>\n",
              "    </tr>\n",
              "    <tr>\n",
              "      <th>3</th>\n",
              "      <td>9</td>\n",
              "      <td>2.85</td>\n",
              "      <td>4.15</td>\n",
              "      <td>5200</td>\n",
              "      <td>Petrol</td>\n",
              "      <td>Dealer</td>\n",
              "      <td>Manual</td>\n",
              "      <td>0</td>\n",
              "    </tr>\n",
              "    <tr>\n",
              "      <th>4</th>\n",
              "      <td>6</td>\n",
              "      <td>4.60</td>\n",
              "      <td>6.87</td>\n",
              "      <td>42450</td>\n",
              "      <td>Diesel</td>\n",
              "      <td>Dealer</td>\n",
              "      <td>Manual</td>\n",
              "      <td>0</td>\n",
              "    </tr>\n",
              "  </tbody>\n",
              "</table>\n",
              "</div>"
            ],
            "text/plain": [
              "   Year  Selling_Price  Present_Price  ...  Seller_Type Transmission Owner\n",
              "0     6           3.35           5.59  ...       Dealer       Manual     0\n",
              "1     7           4.75           9.54  ...       Dealer       Manual     0\n",
              "2     3           7.25           9.85  ...       Dealer       Manual     0\n",
              "3     9           2.85           4.15  ...       Dealer       Manual     0\n",
              "4     6           4.60           6.87  ...       Dealer       Manual     0\n",
              "\n",
              "[5 rows x 8 columns]"
            ]
          },
          "metadata": {
            "tags": []
          },
          "execution_count": 14
        }
      ]
    },
    {
      "cell_type": "code",
      "metadata": {
        "id": "Qg6YG1AiF_h1",
        "outputId": "a9cb6a6a-9c38-4611-8214-0399bf8fa55f",
        "colab": {
          "base_uri": "https://localhost:8080/"
        }
      },
      "source": [
        "cat_feat = [5,6,7]\n",
        "for fea in cat_feat : \n",
        "  print(df[col[fea]].unique())\n"
      ],
      "execution_count": null,
      "outputs": [
        {
          "output_type": "stream",
          "text": [
            "['Petrol' 'Diesel' 'CNG']\n",
            "['Dealer' 'Individual']\n",
            "['Manual' 'Automatic']\n"
          ],
          "name": "stdout"
        }
      ]
    },
    {
      "cell_type": "code",
      "metadata": {
        "id": "zRTLttg_GiwV"
      },
      "source": [
        "df1 = pd.get_dummies(df , drop_first=True)"
      ],
      "execution_count": null,
      "outputs": []
    },
    {
      "cell_type": "code",
      "metadata": {
        "id": "m28GVJ0zH9Rp",
        "outputId": "27028443-6876-436a-e8f5-2dcd81e346f0",
        "colab": {
          "base_uri": "https://localhost:8080/",
          "height": 689
        }
      },
      "source": [
        "df1.head(20)"
      ],
      "execution_count": null,
      "outputs": [
        {
          "output_type": "execute_result",
          "data": {
            "text/html": [
              "<div>\n",
              "<style scoped>\n",
              "    .dataframe tbody tr th:only-of-type {\n",
              "        vertical-align: middle;\n",
              "    }\n",
              "\n",
              "    .dataframe tbody tr th {\n",
              "        vertical-align: top;\n",
              "    }\n",
              "\n",
              "    .dataframe thead th {\n",
              "        text-align: right;\n",
              "    }\n",
              "</style>\n",
              "<table border=\"1\" class=\"dataframe\">\n",
              "  <thead>\n",
              "    <tr style=\"text-align: right;\">\n",
              "      <th></th>\n",
              "      <th>Year</th>\n",
              "      <th>Selling_Price</th>\n",
              "      <th>Present_Price</th>\n",
              "      <th>Kms_Driven</th>\n",
              "      <th>Owner</th>\n",
              "      <th>Fuel_Type_Diesel</th>\n",
              "      <th>Fuel_Type_Petrol</th>\n",
              "      <th>Seller_Type_Individual</th>\n",
              "      <th>Transmission_Manual</th>\n",
              "    </tr>\n",
              "  </thead>\n",
              "  <tbody>\n",
              "    <tr>\n",
              "      <th>0</th>\n",
              "      <td>6</td>\n",
              "      <td>3.35</td>\n",
              "      <td>5.59</td>\n",
              "      <td>27000</td>\n",
              "      <td>0</td>\n",
              "      <td>0</td>\n",
              "      <td>1</td>\n",
              "      <td>0</td>\n",
              "      <td>1</td>\n",
              "    </tr>\n",
              "    <tr>\n",
              "      <th>1</th>\n",
              "      <td>7</td>\n",
              "      <td>4.75</td>\n",
              "      <td>9.54</td>\n",
              "      <td>43000</td>\n",
              "      <td>0</td>\n",
              "      <td>1</td>\n",
              "      <td>0</td>\n",
              "      <td>0</td>\n",
              "      <td>1</td>\n",
              "    </tr>\n",
              "    <tr>\n",
              "      <th>2</th>\n",
              "      <td>3</td>\n",
              "      <td>7.25</td>\n",
              "      <td>9.85</td>\n",
              "      <td>6900</td>\n",
              "      <td>0</td>\n",
              "      <td>0</td>\n",
              "      <td>1</td>\n",
              "      <td>0</td>\n",
              "      <td>1</td>\n",
              "    </tr>\n",
              "    <tr>\n",
              "      <th>3</th>\n",
              "      <td>9</td>\n",
              "      <td>2.85</td>\n",
              "      <td>4.15</td>\n",
              "      <td>5200</td>\n",
              "      <td>0</td>\n",
              "      <td>0</td>\n",
              "      <td>1</td>\n",
              "      <td>0</td>\n",
              "      <td>1</td>\n",
              "    </tr>\n",
              "    <tr>\n",
              "      <th>4</th>\n",
              "      <td>6</td>\n",
              "      <td>4.60</td>\n",
              "      <td>6.87</td>\n",
              "      <td>42450</td>\n",
              "      <td>0</td>\n",
              "      <td>1</td>\n",
              "      <td>0</td>\n",
              "      <td>0</td>\n",
              "      <td>1</td>\n",
              "    </tr>\n",
              "    <tr>\n",
              "      <th>5</th>\n",
              "      <td>2</td>\n",
              "      <td>9.25</td>\n",
              "      <td>9.83</td>\n",
              "      <td>2071</td>\n",
              "      <td>0</td>\n",
              "      <td>1</td>\n",
              "      <td>0</td>\n",
              "      <td>0</td>\n",
              "      <td>1</td>\n",
              "    </tr>\n",
              "    <tr>\n",
              "      <th>6</th>\n",
              "      <td>5</td>\n",
              "      <td>6.75</td>\n",
              "      <td>8.12</td>\n",
              "      <td>18796</td>\n",
              "      <td>0</td>\n",
              "      <td>0</td>\n",
              "      <td>1</td>\n",
              "      <td>0</td>\n",
              "      <td>1</td>\n",
              "    </tr>\n",
              "    <tr>\n",
              "      <th>7</th>\n",
              "      <td>5</td>\n",
              "      <td>6.50</td>\n",
              "      <td>8.61</td>\n",
              "      <td>33429</td>\n",
              "      <td>0</td>\n",
              "      <td>1</td>\n",
              "      <td>0</td>\n",
              "      <td>0</td>\n",
              "      <td>1</td>\n",
              "    </tr>\n",
              "    <tr>\n",
              "      <th>8</th>\n",
              "      <td>4</td>\n",
              "      <td>8.75</td>\n",
              "      <td>8.89</td>\n",
              "      <td>20273</td>\n",
              "      <td>0</td>\n",
              "      <td>1</td>\n",
              "      <td>0</td>\n",
              "      <td>0</td>\n",
              "      <td>1</td>\n",
              "    </tr>\n",
              "    <tr>\n",
              "      <th>9</th>\n",
              "      <td>5</td>\n",
              "      <td>7.45</td>\n",
              "      <td>8.92</td>\n",
              "      <td>42367</td>\n",
              "      <td>0</td>\n",
              "      <td>1</td>\n",
              "      <td>0</td>\n",
              "      <td>0</td>\n",
              "      <td>1</td>\n",
              "    </tr>\n",
              "    <tr>\n",
              "      <th>10</th>\n",
              "      <td>3</td>\n",
              "      <td>2.85</td>\n",
              "      <td>3.60</td>\n",
              "      <td>2135</td>\n",
              "      <td>0</td>\n",
              "      <td>0</td>\n",
              "      <td>1</td>\n",
              "      <td>0</td>\n",
              "      <td>1</td>\n",
              "    </tr>\n",
              "    <tr>\n",
              "      <th>11</th>\n",
              "      <td>5</td>\n",
              "      <td>6.85</td>\n",
              "      <td>10.38</td>\n",
              "      <td>51000</td>\n",
              "      <td>0</td>\n",
              "      <td>1</td>\n",
              "      <td>0</td>\n",
              "      <td>0</td>\n",
              "      <td>1</td>\n",
              "    </tr>\n",
              "    <tr>\n",
              "      <th>12</th>\n",
              "      <td>5</td>\n",
              "      <td>7.50</td>\n",
              "      <td>9.94</td>\n",
              "      <td>15000</td>\n",
              "      <td>0</td>\n",
              "      <td>0</td>\n",
              "      <td>1</td>\n",
              "      <td>0</td>\n",
              "      <td>0</td>\n",
              "    </tr>\n",
              "    <tr>\n",
              "      <th>13</th>\n",
              "      <td>5</td>\n",
              "      <td>6.10</td>\n",
              "      <td>7.71</td>\n",
              "      <td>26000</td>\n",
              "      <td>0</td>\n",
              "      <td>0</td>\n",
              "      <td>1</td>\n",
              "      <td>0</td>\n",
              "      <td>1</td>\n",
              "    </tr>\n",
              "    <tr>\n",
              "      <th>14</th>\n",
              "      <td>11</td>\n",
              "      <td>2.25</td>\n",
              "      <td>7.21</td>\n",
              "      <td>77427</td>\n",
              "      <td>0</td>\n",
              "      <td>0</td>\n",
              "      <td>1</td>\n",
              "      <td>0</td>\n",
              "      <td>1</td>\n",
              "    </tr>\n",
              "    <tr>\n",
              "      <th>15</th>\n",
              "      <td>4</td>\n",
              "      <td>7.75</td>\n",
              "      <td>10.79</td>\n",
              "      <td>43000</td>\n",
              "      <td>0</td>\n",
              "      <td>1</td>\n",
              "      <td>0</td>\n",
              "      <td>0</td>\n",
              "      <td>1</td>\n",
              "    </tr>\n",
              "    <tr>\n",
              "      <th>16</th>\n",
              "      <td>5</td>\n",
              "      <td>7.25</td>\n",
              "      <td>10.79</td>\n",
              "      <td>41678</td>\n",
              "      <td>0</td>\n",
              "      <td>1</td>\n",
              "      <td>0</td>\n",
              "      <td>0</td>\n",
              "      <td>1</td>\n",
              "    </tr>\n",
              "    <tr>\n",
              "      <th>17</th>\n",
              "      <td>4</td>\n",
              "      <td>7.75</td>\n",
              "      <td>10.79</td>\n",
              "      <td>43000</td>\n",
              "      <td>0</td>\n",
              "      <td>1</td>\n",
              "      <td>0</td>\n",
              "      <td>0</td>\n",
              "      <td>1</td>\n",
              "    </tr>\n",
              "    <tr>\n",
              "      <th>18</th>\n",
              "      <td>5</td>\n",
              "      <td>3.25</td>\n",
              "      <td>5.09</td>\n",
              "      <td>35500</td>\n",
              "      <td>0</td>\n",
              "      <td>0</td>\n",
              "      <td>0</td>\n",
              "      <td>0</td>\n",
              "      <td>1</td>\n",
              "    </tr>\n",
              "    <tr>\n",
              "      <th>19</th>\n",
              "      <td>10</td>\n",
              "      <td>2.65</td>\n",
              "      <td>7.98</td>\n",
              "      <td>41442</td>\n",
              "      <td>0</td>\n",
              "      <td>0</td>\n",
              "      <td>1</td>\n",
              "      <td>0</td>\n",
              "      <td>1</td>\n",
              "    </tr>\n",
              "  </tbody>\n",
              "</table>\n",
              "</div>"
            ],
            "text/plain": [
              "    Year  Selling_Price  ...  Seller_Type_Individual  Transmission_Manual\n",
              "0      6           3.35  ...                       0                    1\n",
              "1      7           4.75  ...                       0                    1\n",
              "2      3           7.25  ...                       0                    1\n",
              "3      9           2.85  ...                       0                    1\n",
              "4      6           4.60  ...                       0                    1\n",
              "5      2           9.25  ...                       0                    1\n",
              "6      5           6.75  ...                       0                    1\n",
              "7      5           6.50  ...                       0                    1\n",
              "8      4           8.75  ...                       0                    1\n",
              "9      5           7.45  ...                       0                    1\n",
              "10     3           2.85  ...                       0                    1\n",
              "11     5           6.85  ...                       0                    1\n",
              "12     5           7.50  ...                       0                    0\n",
              "13     5           6.10  ...                       0                    1\n",
              "14    11           2.25  ...                       0                    1\n",
              "15     4           7.75  ...                       0                    1\n",
              "16     5           7.25  ...                       0                    1\n",
              "17     4           7.75  ...                       0                    1\n",
              "18     5           3.25  ...                       0                    1\n",
              "19    10           2.65  ...                       0                    1\n",
              "\n",
              "[20 rows x 9 columns]"
            ]
          },
          "metadata": {
            "tags": []
          },
          "execution_count": 17
        }
      ]
    },
    {
      "cell_type": "code",
      "metadata": {
        "id": "KZFA1e_1H-NN",
        "outputId": "1aaf5c47-368e-4667-c7fa-e03849decb41",
        "colab": {
          "base_uri": "https://localhost:8080/",
          "height": 348
        }
      },
      "source": [
        "df1.corr()"
      ],
      "execution_count": null,
      "outputs": [
        {
          "output_type": "execute_result",
          "data": {
            "text/html": [
              "<div>\n",
              "<style scoped>\n",
              "    .dataframe tbody tr th:only-of-type {\n",
              "        vertical-align: middle;\n",
              "    }\n",
              "\n",
              "    .dataframe tbody tr th {\n",
              "        vertical-align: top;\n",
              "    }\n",
              "\n",
              "    .dataframe thead th {\n",
              "        text-align: right;\n",
              "    }\n",
              "</style>\n",
              "<table border=\"1\" class=\"dataframe\">\n",
              "  <thead>\n",
              "    <tr style=\"text-align: right;\">\n",
              "      <th></th>\n",
              "      <th>Year</th>\n",
              "      <th>Selling_Price</th>\n",
              "      <th>Present_Price</th>\n",
              "      <th>Kms_Driven</th>\n",
              "      <th>Owner</th>\n",
              "      <th>Fuel_Type_Diesel</th>\n",
              "      <th>Fuel_Type_Petrol</th>\n",
              "      <th>Seller_Type_Individual</th>\n",
              "      <th>Transmission_Manual</th>\n",
              "    </tr>\n",
              "  </thead>\n",
              "  <tbody>\n",
              "    <tr>\n",
              "      <th>Year</th>\n",
              "      <td>1.000000</td>\n",
              "      <td>-0.236141</td>\n",
              "      <td>0.047584</td>\n",
              "      <td>0.524342</td>\n",
              "      <td>0.182104</td>\n",
              "      <td>-0.064315</td>\n",
              "      <td>0.059959</td>\n",
              "      <td>0.039896</td>\n",
              "      <td>-0.000394</td>\n",
              "    </tr>\n",
              "    <tr>\n",
              "      <th>Selling_Price</th>\n",
              "      <td>-0.236141</td>\n",
              "      <td>1.000000</td>\n",
              "      <td>0.878983</td>\n",
              "      <td>0.029187</td>\n",
              "      <td>-0.088344</td>\n",
              "      <td>0.552339</td>\n",
              "      <td>-0.540571</td>\n",
              "      <td>-0.550724</td>\n",
              "      <td>-0.367128</td>\n",
              "    </tr>\n",
              "    <tr>\n",
              "      <th>Present_Price</th>\n",
              "      <td>0.047584</td>\n",
              "      <td>0.878983</td>\n",
              "      <td>1.000000</td>\n",
              "      <td>0.203647</td>\n",
              "      <td>0.008057</td>\n",
              "      <td>0.473306</td>\n",
              "      <td>-0.465244</td>\n",
              "      <td>-0.512030</td>\n",
              "      <td>-0.348715</td>\n",
              "    </tr>\n",
              "    <tr>\n",
              "      <th>Kms_Driven</th>\n",
              "      <td>0.524342</td>\n",
              "      <td>0.029187</td>\n",
              "      <td>0.203647</td>\n",
              "      <td>1.000000</td>\n",
              "      <td>0.089216</td>\n",
              "      <td>0.172515</td>\n",
              "      <td>-0.172874</td>\n",
              "      <td>-0.101419</td>\n",
              "      <td>-0.162510</td>\n",
              "    </tr>\n",
              "    <tr>\n",
              "      <th>Owner</th>\n",
              "      <td>0.182104</td>\n",
              "      <td>-0.088344</td>\n",
              "      <td>0.008057</td>\n",
              "      <td>0.089216</td>\n",
              "      <td>1.000000</td>\n",
              "      <td>-0.053469</td>\n",
              "      <td>0.055687</td>\n",
              "      <td>0.124269</td>\n",
              "      <td>-0.050316</td>\n",
              "    </tr>\n",
              "    <tr>\n",
              "      <th>Fuel_Type_Diesel</th>\n",
              "      <td>-0.064315</td>\n",
              "      <td>0.552339</td>\n",
              "      <td>0.473306</td>\n",
              "      <td>0.172515</td>\n",
              "      <td>-0.053469</td>\n",
              "      <td>1.000000</td>\n",
              "      <td>-0.979648</td>\n",
              "      <td>-0.350467</td>\n",
              "      <td>-0.098643</td>\n",
              "    </tr>\n",
              "    <tr>\n",
              "      <th>Fuel_Type_Petrol</th>\n",
              "      <td>0.059959</td>\n",
              "      <td>-0.540571</td>\n",
              "      <td>-0.465244</td>\n",
              "      <td>-0.172874</td>\n",
              "      <td>0.055687</td>\n",
              "      <td>-0.979648</td>\n",
              "      <td>1.000000</td>\n",
              "      <td>0.358321</td>\n",
              "      <td>0.091013</td>\n",
              "    </tr>\n",
              "    <tr>\n",
              "      <th>Seller_Type_Individual</th>\n",
              "      <td>0.039896</td>\n",
              "      <td>-0.550724</td>\n",
              "      <td>-0.512030</td>\n",
              "      <td>-0.101419</td>\n",
              "      <td>0.124269</td>\n",
              "      <td>-0.350467</td>\n",
              "      <td>0.358321</td>\n",
              "      <td>1.000000</td>\n",
              "      <td>0.063240</td>\n",
              "    </tr>\n",
              "    <tr>\n",
              "      <th>Transmission_Manual</th>\n",
              "      <td>-0.000394</td>\n",
              "      <td>-0.367128</td>\n",
              "      <td>-0.348715</td>\n",
              "      <td>-0.162510</td>\n",
              "      <td>-0.050316</td>\n",
              "      <td>-0.098643</td>\n",
              "      <td>0.091013</td>\n",
              "      <td>0.063240</td>\n",
              "      <td>1.000000</td>\n",
              "    </tr>\n",
              "  </tbody>\n",
              "</table>\n",
              "</div>"
            ],
            "text/plain": [
              "                            Year  ...  Transmission_Manual\n",
              "Year                    1.000000  ...            -0.000394\n",
              "Selling_Price          -0.236141  ...            -0.367128\n",
              "Present_Price           0.047584  ...            -0.348715\n",
              "Kms_Driven              0.524342  ...            -0.162510\n",
              "Owner                   0.182104  ...            -0.050316\n",
              "Fuel_Type_Diesel       -0.064315  ...            -0.098643\n",
              "Fuel_Type_Petrol        0.059959  ...             0.091013\n",
              "Seller_Type_Individual  0.039896  ...             0.063240\n",
              "Transmission_Manual    -0.000394  ...             1.000000\n",
              "\n",
              "[9 rows x 9 columns]"
            ]
          },
          "metadata": {
            "tags": []
          },
          "execution_count": 18
        }
      ]
    },
    {
      "cell_type": "code",
      "metadata": {
        "id": "_iojvK0-KWhn",
        "outputId": "0ff5b169-6448-4d50-bb2c-72d567e3de91",
        "colab": {
          "base_uri": "https://localhost:8080/",
          "height": 977
        }
      },
      "source": [
        "import seaborn as sns\n",
        "sns.pairplot(df1)"
      ],
      "execution_count": null,
      "outputs": [
        {
          "output_type": "execute_result",
          "data": {
            "text/plain": [
              "<seaborn.axisgrid.PairGrid at 0x7ff76e9f10f0>"
            ]
          },
          "metadata": {
            "tags": []
          },
          "execution_count": 12
        },
        {
          "output_type": "display_data",
          "data": {
            "image/png": "[encoded data removed]",
            "text/plain": [
              "<Figure size 1620x1620 with 90 Axes>"
            ]
          },
          "metadata": {
            "tags": [],
            "needs_background": "light"
          }
        }
      ]
    },
    {
      "cell_type": "code",
      "metadata": {
        "id": "jeVBU-ENLxlg",
        "outputId": "030c47c8-9a1f-47f7-90f8-c82a172f11e9",
        "colab": {
          "base_uri": "https://localhost:8080/"
        }
      },
      "source": [
        "import matplotlib.pyplot as plt\n"
      ],
      "execution_count": null,
      "outputs": [
        {
          "output_type": "stream",
          "text": [
            "Using matplotlib backend: agg\n"
          ],
          "name": "stdout"
        }
      ]
    },
    {
      "cell_type": "code",
      "metadata": {
        "id": "JaalAkFVMfX5"
      },
      "source": [
        "df =df1"
      ],
      "execution_count": null,
      "outputs": []
    },
    {
      "cell_type": "code",
      "metadata": {
        "id": "GgTNRAU5LAkY",
        "outputId": "58a38913-668a-4bd6-9fe2-b18ef3e0b66c",
        "colab": {
          "base_uri": "https://localhost:8080/"
        }
      },
      "source": [
        "corr_map = df.corr()\n",
        "plt.figure(figsize= (20,20))\n",
        "sns.heatmap(df[corr_map.index].corr(),annot=True ,  cmap='RdYlGn' )\n",
        "\n"
      ],
      "execution_count": null,
      "outputs": [
        {
          "output_type": "execute_result",
          "data": {
            "text/plain": [
              "<matplotlib.axes._subplots.AxesSubplot at 0x7f84f3e76e80>"
            ]
          },
          "metadata": {
            "tags": []
          },
          "execution_count": 34
        }
      ]
    },
    {
      "cell_type": "code",
      "metadata": {
        "id": "4uKOYMhdMHms"
      },
      "source": [
        "# X and Y  : \n",
        "Y = df['Selling_Price']\n",
        "del df['Selling_Price']\n",
        "X = df"
      ],
      "execution_count": null,
      "outputs": []
    },
    {
      "cell_type": "code",
      "metadata": {
        "id": "fv4_gzDGMX0j",
        "outputId": "dba956f0-faa8-4a0c-e6b3-9660dea2a1e7",
        "colab": {
          "base_uri": "https://localhost:8080/"
        }
      },
      "source": [
        "#checking for features importants\n",
        "from sklearn.ensemble import ExtraTreesRegressor \n",
        "model = ExtraTreesRegressor()\n",
        "model.fit(X ,Y)\n"
      ],
      "execution_count": null,
      "outputs": [
        {
          "output_type": "execute_result",
          "data": {
            "text/plain": [
              "ExtraTreesRegressor(bootstrap=False, ccp_alpha=0.0, criterion='mse',\n",
              "                    max_depth=None, max_features='auto', max_leaf_nodes=None,\n",
              "                    max_samples=None, min_impurity_decrease=0.0,\n",
              "                    min_impurity_split=None, min_samples_leaf=1,\n",
              "                    min_samples_split=2, min_weight_fraction_leaf=0.0,\n",
              "                    n_estimators=100, n_jobs=None, oob_score=False,\n",
              "                    random_state=None, verbose=0, warm_start=False)"
            ]
          },
          "metadata": {
            "tags": []
          },
          "execution_count": 15
        }
      ]
    },
    {
      "cell_type": "code",
      "metadata": {
        "id": "l--F-y3eMZ6l"
      },
      "source": [
        "L =list(model.feature_importances_)"
      ],
      "execution_count": null,
      "outputs": []
    },
    {
      "cell_type": "code",
      "metadata": {
        "id": "96olzdEUM6J7",
        "outputId": "9ddc3c70-1b87-4ec7-a721-1190b668e239",
        "colab": {
          "base_uri": "https://localhost:8080/"
        }
      },
      "source": [
        "L"
      ],
      "execution_count": null,
      "outputs": [
        {
          "output_type": "execute_result",
          "data": {
            "text/plain": [
              "[0.07676377808797695,\n",
              " 0.3766160355675757,\n",
              " 0.04330495693648538,\n",
              " 0.0004799896681916054,\n",
              " 0.23290661403845273,\n",
              " 0.014256185101118833,\n",
              " 0.12540735984910517,\n",
              " 0.13026508075109353]"
            ]
          },
          "metadata": {
            "tags": []
          },
          "execution_count": 17
        }
      ]
    },
    {
      "cell_type": "code",
      "metadata": {
        "id": "v2mSV-3STKT-"
      },
      "source": [
        "from sklearn.model_selection import train_test_split \n",
        "X_train ,X_test , Y_train ,Y_test = train_test_split(X ,Y ,test_size = 0.2 )"
      ],
      "execution_count": null,
      "outputs": []
    },
    {
      "cell_type": "code",
      "metadata": {
        "id": "PxGHSYBoUtBH",
        "outputId": "5b318a23-d391-421b-e468-2c66e9a364b8",
        "colab": {
          "base_uri": "https://localhost:8080/"
        }
      },
      "source": [
        "print(X_train.shape,X_test.shape ,Y_train.shape , Y_test.shape)"
      ],
      "execution_count": null,
      "outputs": [
        {
          "output_type": "stream",
          "text": [
            "(240, 8) (61, 8) (240,) (61,)\n"
          ],
          "name": "stdout"
        }
      ]
    },
    {
      "cell_type": "code",
      "metadata": {
        "id": "weeN7OdOVG60"
      },
      "source": [
        "from sklearn.ensemble import RandomForestRegressor \n",
        "from sklearn.model_selection import RandomizedSearchCV\n",
        "model = RandomForestRegressor()\n"
      ],
      "execution_count": null,
      "outputs": []
    },
    {
      "cell_type": "code",
      "metadata": {
        "id": "0k-JmytYIi1U",
        "outputId": "a2923df7-d326-4dd5-bba2-e03bfd19b4ac",
        "colab": {
          "base_uri": "https://localhost:8080/"
        }
      },
      "source": [
        "model.get_params"
      ],
      "execution_count": null,
      "outputs": [
        {
          "output_type": "execute_result",
          "data": {
            "text/plain": [
              "<bound method BaseEstimator.get_params of RandomForestRegressor(bootstrap=True, ccp_alpha=0.0, criterion='mse',\n",
              "                      max_depth=None, max_features='auto', max_leaf_nodes=None,\n",
              "                      max_samples=None, min_impurity_decrease=0.0,\n",
              "                      min_impurity_split=None, min_samples_leaf=1,\n",
              "                      min_samples_split=2, min_weight_fraction_leaf=0.0,\n",
              "                      n_estimators=100, n_jobs=None, oob_score=False,\n",
              "                      random_state=None, verbose=0, warm_start=False)>"
            ]
          },
          "metadata": {
            "tags": []
          },
          "execution_count": 86
        }
      ]
    },
    {
      "cell_type": "code",
      "metadata": {
        "id": "sNIbUen8COIL"
      },
      "source": [
        "#randoize search cv \n",
        "import numpy as np \n",
        "n_estimators = [int(x) for x in range(100 , 1300 ,100)]\n",
        "max_depth = [int(x) for x in np.linspace(5,30,num=6)]\n",
        "max_features = ['auto' , 'sqrt']\n",
        "min_sapmles_split = [2,5,10,100]\n",
        "min_samples_leaf = [1,2,5,10]\n"
      ],
      "execution_count": null,
      "outputs": []
    },
    {
      "cell_type": "code",
      "metadata": {
        "id": "DIzy1tcxDSbV"
      },
      "source": [
        "grid = {'n_estimators' : n_estimators , 'max_depth' : max_depth , 'max_features' : max_features , 'min_samples_split' :min_sapmles_split , \n",
        "        'min_samples_leaf' : min_samples_leaf}"
      ],
      "execution_count": null,
      "outputs": []
    },
    {
      "cell_type": "code",
      "metadata": {
        "id": "ZAGk-i0RDUBf",
        "outputId": "6ea9a205-7d2b-4a56-bcb5-f5eec5558002",
        "colab": {
          "base_uri": "https://localhost:8080/"
        }
      },
      "source": [
        "grid"
      ],
      "execution_count": null,
      "outputs": [
        {
          "output_type": "execute_result",
          "data": {
            "text/plain": [
              "{'max_depth': [5, 10, 15, 20, 25, 30],\n",
              " 'max_features': ['auto', 'sqrt'],\n",
              " 'min_samples_leaf': [1, 2, 5, 10],\n",
              " 'min_samples_split': [2, 5, 10, 100],\n",
              " 'n_estimators': [100,\n",
              "  200,\n",
              "  300,\n",
              "  400,\n",
              "  500,\n",
              "  600,\n",
              "  700,\n",
              "  800,\n",
              "  900,\n",
              "  1000,\n",
              "  1100,\n",
              "  1200]}"
            ]
          },
          "metadata": {
            "tags": []
          },
          "execution_count": 89
        }
      ]
    },
    {
      "cell_type": "code",
      "metadata": {
        "id": "CYpaxzmsGKq7"
      },
      "source": [
        "model = RandomizedSearchCV(model , param_distributions= grid ,n_iter=10, scoring='neg_mean_squared_error' ,cv = 5 , verbose=2 ,random_state=42  )"
      ],
      "execution_count": null,
      "outputs": []
    },
    {
      "cell_type": "code",
      "metadata": {
        "id": "ym8Z9ftrHl7f",
        "outputId": "54c530b8-eb33-45fc-cf60-6a3fe5dc5a41",
        "colab": {
          "base_uri": "https://localhost:8080/"
        }
      },
      "source": [
        "model.fit(X_train, Y_train)"
      ],
      "execution_count": null,
      "outputs": [
        {
          "output_type": "stream",
          "text": [
            "Fitting 5 folds for each of 10 candidates, totalling 50 fits\n",
            "[CV] n_estimators=900, min_samples_split=100, min_samples_leaf=2, max_features=auto, max_depth=15 \n"
          ],
          "name": "stdout"
        },
        {
          "output_type": "stream",
          "text": [
            "[Parallel(n_jobs=1)]: Using backend SequentialBackend with 1 concurrent workers.\n"
          ],
          "name": "stderr"
        },
        {
          "output_type": "stream",
          "text": [
            "[CV]  n_estimators=900, min_samples_split=100, min_samples_leaf=2, max_features=auto, max_depth=15, total=   1.2s\n",
            "[CV] n_estimators=900, min_samples_split=100, min_samples_leaf=2, max_features=auto, max_depth=15 \n"
          ],
          "name": "stdout"
        },
        {
          "output_type": "stream",
          "text": [
            "[Parallel(n_jobs=1)]: Done   1 out of   1 | elapsed:    1.2s remaining:    0.0s\n"
          ],
          "name": "stderr"
        },
        {
          "output_type": "stream",
          "text": [
            "[CV]  n_estimators=900, min_samples_split=100, min_samples_leaf=2, max_features=auto, max_depth=15, total=   1.2s\n",
            "[CV] n_estimators=900, min_samples_split=100, min_samples_leaf=2, max_features=auto, max_depth=15 \n",
            "[CV]  n_estimators=900, min_samples_split=100, min_samples_leaf=2, max_features=auto, max_depth=15, total=   1.2s\n",
            "[CV] n_estimators=900, min_samples_split=100, min_samples_leaf=2, max_features=auto, max_depth=15 \n",
            "[CV]  n_estimators=900, min_samples_split=100, min_samples_leaf=2, max_features=auto, max_depth=15, total=   1.2s\n",
            "[CV] n_estimators=900, min_samples_split=100, min_samples_leaf=2, max_features=auto, max_depth=15 \n",
            "[CV]  n_estimators=900, min_samples_split=100, min_samples_leaf=2, max_features=auto, max_depth=15, total=   1.2s\n",
            "[CV] n_estimators=1100, min_samples_split=100, min_samples_leaf=5, max_features=auto, max_depth=20 \n",
            "[CV]  n_estimators=1100, min_samples_split=100, min_samples_leaf=5, max_features=auto, max_depth=20, total=   1.4s\n",
            "[CV] n_estimators=1100, min_samples_split=100, min_samples_leaf=5, max_features=auto, max_depth=20 \n",
            "[CV]  n_estimators=1100, min_samples_split=100, min_samples_leaf=5, max_features=auto, max_depth=20, total=   1.4s\n",
            "[CV] n_estimators=1100, min_samples_split=100, min_samples_leaf=5, max_features=auto, max_depth=20 \n",
            "[CV]  n_estimators=1100, min_samples_split=100, min_samples_leaf=5, max_features=auto, max_depth=20, total=   1.4s\n",
            "[CV] n_estimators=1100, min_samples_split=100, min_samples_leaf=5, max_features=auto, max_depth=20 \n",
            "[CV]  n_estimators=1100, min_samples_split=100, min_samples_leaf=5, max_features=auto, max_depth=20, total=   1.4s\n",
            "[CV] n_estimators=1100, min_samples_split=100, min_samples_leaf=5, max_features=auto, max_depth=20 \n",
            "[CV]  n_estimators=1100, min_samples_split=100, min_samples_leaf=5, max_features=auto, max_depth=20, total=   1.4s\n",
            "[CV] n_estimators=300, min_samples_split=10, min_samples_leaf=10, max_features=sqrt, max_depth=15 \n",
            "[CV]  n_estimators=300, min_samples_split=10, min_samples_leaf=10, max_features=sqrt, max_depth=15, total=   0.4s\n",
            "[CV] n_estimators=300, min_samples_split=10, min_samples_leaf=10, max_features=sqrt, max_depth=15 \n",
            "[CV]  n_estimators=300, min_samples_split=10, min_samples_leaf=10, max_features=sqrt, max_depth=15, total=   0.4s\n",
            "[CV] n_estimators=300, min_samples_split=10, min_samples_leaf=10, max_features=sqrt, max_depth=15 \n",
            "[CV]  n_estimators=300, min_samples_split=10, min_samples_leaf=10, max_features=sqrt, max_depth=15, total=   0.4s\n",
            "[CV] n_estimators=300, min_samples_split=10, min_samples_leaf=10, max_features=sqrt, max_depth=15 \n",
            "[CV]  n_estimators=300, min_samples_split=10, min_samples_leaf=10, max_features=sqrt, max_depth=15, total=   0.4s\n",
            "[CV] n_estimators=300, min_samples_split=10, min_samples_leaf=10, max_features=sqrt, max_depth=15 \n",
            "[CV]  n_estimators=300, min_samples_split=10, min_samples_leaf=10, max_features=sqrt, max_depth=15, total=   0.4s\n",
            "[CV] n_estimators=400, min_samples_split=100, min_samples_leaf=5, max_features=sqrt, max_depth=15 \n",
            "[CV]  n_estimators=400, min_samples_split=100, min_samples_leaf=5, max_features=sqrt, max_depth=15, total=   0.5s\n",
            "[CV] n_estimators=400, min_samples_split=100, min_samples_leaf=5, max_features=sqrt, max_depth=15 \n",
            "[CV]  n_estimators=400, min_samples_split=100, min_samples_leaf=5, max_features=sqrt, max_depth=15, total=   0.5s\n",
            "[CV] n_estimators=400, min_samples_split=100, min_samples_leaf=5, max_features=sqrt, max_depth=15 \n",
            "[CV]  n_estimators=400, min_samples_split=100, min_samples_leaf=5, max_features=sqrt, max_depth=15, total=   0.5s\n",
            "[CV] n_estimators=400, min_samples_split=100, min_samples_leaf=5, max_features=sqrt, max_depth=15 \n",
            "[CV]  n_estimators=400, min_samples_split=100, min_samples_leaf=5, max_features=sqrt, max_depth=15, total=   0.5s\n",
            "[CV] n_estimators=400, min_samples_split=100, min_samples_leaf=5, max_features=sqrt, max_depth=15 \n",
            "[CV]  n_estimators=400, min_samples_split=100, min_samples_leaf=5, max_features=sqrt, max_depth=15, total=   0.5s\n",
            "[CV] n_estimators=700, min_samples_split=2, min_samples_leaf=5, max_features=auto, max_depth=25 \n",
            "[CV]  n_estimators=700, min_samples_split=2, min_samples_leaf=5, max_features=auto, max_depth=25, total=   1.0s\n",
            "[CV] n_estimators=700, min_samples_split=2, min_samples_leaf=5, max_features=auto, max_depth=25 \n",
            "[CV]  n_estimators=700, min_samples_split=2, min_samples_leaf=5, max_features=auto, max_depth=25, total=   1.0s\n",
            "[CV] n_estimators=700, min_samples_split=2, min_samples_leaf=5, max_features=auto, max_depth=25 \n",
            "[CV]  n_estimators=700, min_samples_split=2, min_samples_leaf=5, max_features=auto, max_depth=25, total=   1.0s\n",
            "[CV] n_estimators=700, min_samples_split=2, min_samples_leaf=5, max_features=auto, max_depth=25 \n",
            "[CV]  n_estimators=700, min_samples_split=2, min_samples_leaf=5, max_features=auto, max_depth=25, total=   1.0s\n",
            "[CV] n_estimators=700, min_samples_split=2, min_samples_leaf=5, max_features=auto, max_depth=25 \n",
            "[CV]  n_estimators=700, min_samples_split=2, min_samples_leaf=5, max_features=auto, max_depth=25, total=   1.0s\n",
            "[CV] n_estimators=1000, min_samples_split=2, min_samples_leaf=2, max_features=sqrt, max_depth=30 \n",
            "[CV]  n_estimators=1000, min_samples_split=2, min_samples_leaf=2, max_features=sqrt, max_depth=30, total=   1.3s\n",
            "[CV] n_estimators=1000, min_samples_split=2, min_samples_leaf=2, max_features=sqrt, max_depth=30 \n",
            "[CV]  n_estimators=1000, min_samples_split=2, min_samples_leaf=2, max_features=sqrt, max_depth=30, total=   1.4s\n",
            "[CV] n_estimators=1000, min_samples_split=2, min_samples_leaf=2, max_features=sqrt, max_depth=30 \n",
            "[CV]  n_estimators=1000, min_samples_split=2, min_samples_leaf=2, max_features=sqrt, max_depth=30, total=   1.4s\n",
            "[CV] n_estimators=1000, min_samples_split=2, min_samples_leaf=2, max_features=sqrt, max_depth=30 \n",
            "[CV]  n_estimators=1000, min_samples_split=2, min_samples_leaf=2, max_features=sqrt, max_depth=30, total=   1.3s\n",
            "[CV] n_estimators=1000, min_samples_split=2, min_samples_leaf=2, max_features=sqrt, max_depth=30 \n",
            "[CV]  n_estimators=1000, min_samples_split=2, min_samples_leaf=2, max_features=sqrt, max_depth=30, total=   1.4s\n",
            "[CV] n_estimators=1100, min_samples_split=10, min_samples_leaf=2, max_features=auto, max_depth=10 \n",
            "[CV]  n_estimators=1100, min_samples_split=10, min_samples_leaf=2, max_features=auto, max_depth=10, total=   1.6s\n",
            "[CV] n_estimators=1100, min_samples_split=10, min_samples_leaf=2, max_features=auto, max_depth=10 \n",
            "[CV]  n_estimators=1100, min_samples_split=10, min_samples_leaf=2, max_features=auto, max_depth=10, total=   1.6s\n",
            "[CV] n_estimators=1100, min_samples_split=10, min_samples_leaf=2, max_features=auto, max_depth=10 \n",
            "[CV]  n_estimators=1100, min_samples_split=10, min_samples_leaf=2, max_features=auto, max_depth=10, total=   1.6s\n",
            "[CV] n_estimators=1100, min_samples_split=10, min_samples_leaf=2, max_features=auto, max_depth=10 \n",
            "[CV]  n_estimators=1100, min_samples_split=10, min_samples_leaf=2, max_features=auto, max_depth=10, total=   1.6s\n",
            "[CV] n_estimators=1100, min_samples_split=10, min_samples_leaf=2, max_features=auto, max_depth=10 \n",
            "[CV]  n_estimators=1100, min_samples_split=10, min_samples_leaf=2, max_features=auto, max_depth=10, total=   1.6s\n",
            "[CV] n_estimators=300, min_samples_split=100, min_samples_leaf=2, max_features=auto, max_depth=20 \n",
            "[CV]  n_estimators=300, min_samples_split=100, min_samples_leaf=2, max_features=auto, max_depth=20, total=   0.4s\n",
            "[CV] n_estimators=300, min_samples_split=100, min_samples_leaf=2, max_features=auto, max_depth=20 \n",
            "[CV]  n_estimators=300, min_samples_split=100, min_samples_leaf=2, max_features=auto, max_depth=20, total=   0.4s\n",
            "[CV] n_estimators=300, min_samples_split=100, min_samples_leaf=2, max_features=auto, max_depth=20 \n",
            "[CV]  n_estimators=300, min_samples_split=100, min_samples_leaf=2, max_features=auto, max_depth=20, total=   0.4s\n",
            "[CV] n_estimators=300, min_samples_split=100, min_samples_leaf=2, max_features=auto, max_depth=20 \n",
            "[CV]  n_estimators=300, min_samples_split=100, min_samples_leaf=2, max_features=auto, max_depth=20, total=   0.4s\n",
            "[CV] n_estimators=300, min_samples_split=100, min_samples_leaf=2, max_features=auto, max_depth=20 \n",
            "[CV]  n_estimators=300, min_samples_split=100, min_samples_leaf=2, max_features=auto, max_depth=20, total=   0.4s\n",
            "[CV] n_estimators=700, min_samples_split=100, min_samples_leaf=5, max_features=sqrt, max_depth=5 \n",
            "[CV]  n_estimators=700, min_samples_split=100, min_samples_leaf=5, max_features=sqrt, max_depth=5, total=   0.9s\n",
            "[CV] n_estimators=700, min_samples_split=100, min_samples_leaf=5, max_features=sqrt, max_depth=5 \n",
            "[CV]  n_estimators=700, min_samples_split=100, min_samples_leaf=5, max_features=sqrt, max_depth=5, total=   0.9s\n",
            "[CV] n_estimators=700, min_samples_split=100, min_samples_leaf=5, max_features=sqrt, max_depth=5 \n",
            "[CV]  n_estimators=700, min_samples_split=100, min_samples_leaf=5, max_features=sqrt, max_depth=5, total=   0.8s\n",
            "[CV] n_estimators=700, min_samples_split=100, min_samples_leaf=5, max_features=sqrt, max_depth=5 \n",
            "[CV]  n_estimators=700, min_samples_split=100, min_samples_leaf=5, max_features=sqrt, max_depth=5, total=   0.8s\n",
            "[CV] n_estimators=700, min_samples_split=100, min_samples_leaf=5, max_features=sqrt, max_depth=5 \n",
            "[CV]  n_estimators=700, min_samples_split=100, min_samples_leaf=5, max_features=sqrt, max_depth=5, total=   0.9s\n",
            "[CV] n_estimators=700, min_samples_split=100, min_samples_leaf=5, max_features=sqrt, max_depth=20 \n",
            "[CV]  n_estimators=700, min_samples_split=100, min_samples_leaf=5, max_features=sqrt, max_depth=20, total=   0.9s\n",
            "[CV] n_estimators=700, min_samples_split=100, min_samples_leaf=5, max_features=sqrt, max_depth=20 \n",
            "[CV]  n_estimators=700, min_samples_split=100, min_samples_leaf=5, max_features=sqrt, max_depth=20, total=   0.8s\n",
            "[CV] n_estimators=700, min_samples_split=100, min_samples_leaf=5, max_features=sqrt, max_depth=20 \n",
            "[CV]  n_estimators=700, min_samples_split=100, min_samples_leaf=5, max_features=sqrt, max_depth=20, total=   0.8s\n",
            "[CV] n_estimators=700, min_samples_split=100, min_samples_leaf=5, max_features=sqrt, max_depth=20 \n",
            "[CV]  n_estimators=700, min_samples_split=100, min_samples_leaf=5, max_features=sqrt, max_depth=20, total=   0.9s\n",
            "[CV] n_estimators=700, min_samples_split=100, min_samples_leaf=5, max_features=sqrt, max_depth=20 \n",
            "[CV]  n_estimators=700, min_samples_split=100, min_samples_leaf=5, max_features=sqrt, max_depth=20, total=   0.8s\n"
          ],
          "name": "stdout"
        },
        {
          "output_type": "stream",
          "text": [
            "[Parallel(n_jobs=1)]: Done  50 out of  50 | elapsed:   47.7s finished\n"
          ],
          "name": "stderr"
        },
        {
          "output_type": "execute_result",
          "data": {
            "text/plain": [
              "RandomizedSearchCV(cv=5, error_score=nan,\n",
              "                   estimator=RandomForestRegressor(bootstrap=True,\n",
              "                                                   ccp_alpha=0.0,\n",
              "                                                   criterion='mse',\n",
              "                                                   max_depth=None,\n",
              "                                                   max_features='auto',\n",
              "                                                   max_leaf_nodes=None,\n",
              "                                                   max_samples=None,\n",
              "                                                   min_impurity_decrease=0.0,\n",
              "                                                   min_impurity_split=None,\n",
              "                                                   min_samples_leaf=1,\n",
              "                                                   min_samples_split=2,\n",
              "                                                   min_weight_fraction_leaf=0.0,\n",
              "                                                   n_estimators=100,\n",
              "                                                   n_jobs=None, oob_score=Fals...\n",
              "                   iid='deprecated', n_iter=10, n_jobs=None,\n",
              "                   param_distributions={'max_depth': [5, 10, 15, 20, 25, 30],\n",
              "                                        'max_features': ['auto', 'sqrt'],\n",
              "                                        'min_samples_leaf': [1, 2, 5, 10],\n",
              "                                        'min_samples_split': [2, 5, 10, 100],\n",
              "                                        'n_estimators': [100, 200, 300, 400,\n",
              "                                                         500, 600, 700, 800,\n",
              "                                                         900, 1000, 1100,\n",
              "                                                         1200]},\n",
              "                   pre_dispatch='2*n_jobs', random_state=42, refit=True,\n",
              "                   return_train_score=False, scoring='neg_mean_squared_error',\n",
              "                   verbose=2)"
            ]
          },
          "metadata": {
            "tags": []
          },
          "execution_count": 91
        }
      ]
    },
    {
      "cell_type": "code",
      "metadata": {
        "id": "dVCXHqz5H1h9"
      },
      "source": [
        "y_pred = model.predict(X_test)"
      ],
      "execution_count": null,
      "outputs": []
    },
    {
      "cell_type": "code",
      "metadata": {
        "id": "DadYsj4xTRGm",
        "outputId": "8ace1699-5716-4214-cde1-4f0e87f434d8",
        "colab": {
          "base_uri": "https://localhost:8080/"
        }
      },
      "source": [
        "\n",
        "Y_test-y_pred"
      ],
      "execution_count": null,
      "outputs": [
        {
          "output_type": "execute_result",
          "data": {
            "text/plain": [
              "43     0.006283\n",
              "67     1.160259\n",
              "111    0.014295\n",
              "127    0.076390\n",
              "270   -0.129689\n",
              "         ...   \n",
              "238   -0.764824\n",
              "29     0.128186\n",
              "297   -0.304094\n",
              "112   -0.060842\n",
              "34     0.007926\n",
              "Name: Selling_Price, Length: 61, dtype: float64"
            ]
          },
          "metadata": {
            "tags": []
          },
          "execution_count": 96
        }
      ]
    },
    {
      "cell_type": "code",
      "metadata": {
        "id": "Jy3O3PyaTaSQ"
      },
      "source": [
        "import pickle as pkl \n",
        "file = open('/content/drive/My Drive/car_price.pkl' , 'wb')\n",
        "pkl.dump(model , file)"
      ],
      "execution_count": null,
      "outputs": []
    },
    {
      "cell_type": "code",
      "metadata": {
        "id": "95gZivaKUST9",
        "outputId": "25ef6619-6f7f-41d6-b301-26e741da9e13",
        "colab": {
          "base_uri": "https://localhost:8080/",
          "height": 224
        }
      },
      "source": [
        "df.head()"
      ],
      "execution_count": null,
      "outputs": [
        {
          "output_type": "execute_result",
          "data": {
            "text/html": [
              "<div>\n",
              "<style scoped>\n",
              "    .dataframe tbody tr th:only-of-type {\n",
              "        vertical-align: middle;\n",
              "    }\n",
              "\n",
              "    .dataframe tbody tr th {\n",
              "        vertical-align: top;\n",
              "    }\n",
              "\n",
              "    .dataframe thead th {\n",
              "        text-align: right;\n",
              "    }\n",
              "</style>\n",
              "<table border=\"1\" class=\"dataframe\">\n",
              "  <thead>\n",
              "    <tr style=\"text-align: right;\">\n",
              "      <th></th>\n",
              "      <th>Year</th>\n",
              "      <th>Present_Price</th>\n",
              "      <th>Kms_Driven</th>\n",
              "      <th>Owner</th>\n",
              "      <th>Fuel_Type_Diesel</th>\n",
              "      <th>Fuel_Type_Petrol</th>\n",
              "      <th>Seller_Type_Individual</th>\n",
              "      <th>Transmission_Manual</th>\n",
              "    </tr>\n",
              "  </thead>\n",
              "  <tbody>\n",
              "    <tr>\n",
              "      <th>0</th>\n",
              "      <td>6</td>\n",
              "      <td>5.59</td>\n",
              "      <td>27000</td>\n",
              "      <td>0</td>\n",
              "      <td>0</td>\n",
              "      <td>1</td>\n",
              "      <td>0</td>\n",
              "      <td>1</td>\n",
              "    </tr>\n",
              "    <tr>\n",
              "      <th>1</th>\n",
              "      <td>7</td>\n",
              "      <td>9.54</td>\n",
              "      <td>43000</td>\n",
              "      <td>0</td>\n",
              "      <td>1</td>\n",
              "      <td>0</td>\n",
              "      <td>0</td>\n",
              "      <td>1</td>\n",
              "    </tr>\n",
              "    <tr>\n",
              "      <th>2</th>\n",
              "      <td>3</td>\n",
              "      <td>9.85</td>\n",
              "      <td>6900</td>\n",
              "      <td>0</td>\n",
              "      <td>0</td>\n",
              "      <td>1</td>\n",
              "      <td>0</td>\n",
              "      <td>1</td>\n",
              "    </tr>\n",
              "    <tr>\n",
              "      <th>3</th>\n",
              "      <td>9</td>\n",
              "      <td>4.15</td>\n",
              "      <td>5200</td>\n",
              "      <td>0</td>\n",
              "      <td>0</td>\n",
              "      <td>1</td>\n",
              "      <td>0</td>\n",
              "      <td>1</td>\n",
              "    </tr>\n",
              "    <tr>\n",
              "      <th>4</th>\n",
              "      <td>6</td>\n",
              "      <td>6.87</td>\n",
              "      <td>42450</td>\n",
              "      <td>0</td>\n",
              "      <td>1</td>\n",
              "      <td>0</td>\n",
              "      <td>0</td>\n",
              "      <td>1</td>\n",
              "    </tr>\n",
              "  </tbody>\n",
              "</table>\n",
              "</div>"
            ],
            "text/plain": [
              "   Year  Present_Price  ...  Seller_Type_Individual  Transmission_Manual\n",
              "0     6           5.59  ...                       0                    1\n",
              "1     7           9.54  ...                       0                    1\n",
              "2     3           9.85  ...                       0                    1\n",
              "3     9           4.15  ...                       0                    1\n",
              "4     6           6.87  ...                       0                    1\n",
              "\n",
              "[5 rows x 8 columns]"
            ]
          },
          "metadata": {
            "tags": []
          },
          "execution_count": 22
        }
      ]
    },
    {
      "cell_type": "code",
      "metadata": {
        "id": "XFHGljLqcgaJ"
      },
      "source": [
        "import pickle as pkl\n",
        "file = open('/content/drive/MyDrive/car_price.pkl','rb')\n",
        "model = pkl.load(file)"
      ],
      "execution_count": null,
      "outputs": []
    },
    {
      "cell_type": "code",
      "metadata": {
        "id": "HeG49nMw05bs",
        "outputId": "aa546933-b109-4d8c-8640-e164aef06f95",
        "colab": {
          "base_uri": "https://localhost:8080/",
          "height": 439
        }
      },
      "source": [
        "X_test"
      ],
      "execution_count": null,
      "outputs": [
        {
          "output_type": "execute_result",
          "data": {
            "text/html": [
              "<div>\n",
              "<style scoped>\n",
              "    .dataframe tbody tr th:only-of-type {\n",
              "        vertical-align: middle;\n",
              "    }\n",
              "\n",
              "    .dataframe tbody tr th {\n",
              "        vertical-align: top;\n",
              "    }\n",
              "\n",
              "    .dataframe thead th {\n",
              "        text-align: right;\n",
              "    }\n",
              "</style>\n",
              "<table border=\"1\" class=\"dataframe\">\n",
              "  <thead>\n",
              "    <tr style=\"text-align: right;\">\n",
              "      <th></th>\n",
              "      <th>Year</th>\n",
              "      <th>Present_Price</th>\n",
              "      <th>Kms_Driven</th>\n",
              "      <th>Owner</th>\n",
              "      <th>Fuel_Type_Diesel</th>\n",
              "      <th>Fuel_Type_Petrol</th>\n",
              "      <th>Seller_Type_Individual</th>\n",
              "      <th>Transmission_Manual</th>\n",
              "    </tr>\n",
              "  </thead>\n",
              "  <tbody>\n",
              "    <tr>\n",
              "      <th>105</th>\n",
              "      <td>5</td>\n",
              "      <td>2.37</td>\n",
              "      <td>21700</td>\n",
              "      <td>0</td>\n",
              "      <td>0</td>\n",
              "      <td>1</td>\n",
              "      <td>1</td>\n",
              "      <td>1</td>\n",
              "    </tr>\n",
              "    <tr>\n",
              "      <th>284</th>\n",
              "      <td>7</td>\n",
              "      <td>5.90</td>\n",
              "      <td>9800</td>\n",
              "      <td>0</td>\n",
              "      <td>0</td>\n",
              "      <td>1</td>\n",
              "      <td>0</td>\n",
              "      <td>1</td>\n",
              "    </tr>\n",
              "    <tr>\n",
              "      <th>11</th>\n",
              "      <td>5</td>\n",
              "      <td>10.38</td>\n",
              "      <td>51000</td>\n",
              "      <td>0</td>\n",
              "      <td>1</td>\n",
              "      <td>0</td>\n",
              "      <td>0</td>\n",
              "      <td>1</td>\n",
              "    </tr>\n",
              "    <tr>\n",
              "      <th>165</th>\n",
              "      <td>4</td>\n",
              "      <td>0.54</td>\n",
              "      <td>500</td>\n",
              "      <td>0</td>\n",
              "      <td>0</td>\n",
              "      <td>1</td>\n",
              "      <td>1</td>\n",
              "      <td>0</td>\n",
              "    </tr>\n",
              "    <tr>\n",
              "      <th>265</th>\n",
              "      <td>3</td>\n",
              "      <td>8.70</td>\n",
              "      <td>21200</td>\n",
              "      <td>0</td>\n",
              "      <td>0</td>\n",
              "      <td>1</td>\n",
              "      <td>0</td>\n",
              "      <td>1</td>\n",
              "    </tr>\n",
              "    <tr>\n",
              "      <th>...</th>\n",
              "      <td>...</td>\n",
              "      <td>...</td>\n",
              "      <td>...</td>\n",
              "      <td>...</td>\n",
              "      <td>...</td>\n",
              "      <td>...</td>\n",
              "      <td>...</td>\n",
              "      <td>...</td>\n",
              "    </tr>\n",
              "    <tr>\n",
              "      <th>249</th>\n",
              "      <td>4</td>\n",
              "      <td>7.60</td>\n",
              "      <td>17000</td>\n",
              "      <td>0</td>\n",
              "      <td>0</td>\n",
              "      <td>1</td>\n",
              "      <td>0</td>\n",
              "      <td>1</td>\n",
              "    </tr>\n",
              "    <tr>\n",
              "      <th>178</th>\n",
              "      <td>6</td>\n",
              "      <td>0.52</td>\n",
              "      <td>19000</td>\n",
              "      <td>0</td>\n",
              "      <td>0</td>\n",
              "      <td>1</td>\n",
              "      <td>1</td>\n",
              "      <td>0</td>\n",
              "    </tr>\n",
              "    <tr>\n",
              "      <th>280</th>\n",
              "      <td>5</td>\n",
              "      <td>5.90</td>\n",
              "      <td>14465</td>\n",
              "      <td>0</td>\n",
              "      <td>0</td>\n",
              "      <td>1</td>\n",
              "      <td>0</td>\n",
              "      <td>1</td>\n",
              "    </tr>\n",
              "    <tr>\n",
              "      <th>204</th>\n",
              "      <td>5</td>\n",
              "      <td>4.43</td>\n",
              "      <td>28282</td>\n",
              "      <td>0</td>\n",
              "      <td>0</td>\n",
              "      <td>1</td>\n",
              "      <td>0</td>\n",
              "      <td>1</td>\n",
              "    </tr>\n",
              "    <tr>\n",
              "      <th>29</th>\n",
              "      <td>5</td>\n",
              "      <td>10.38</td>\n",
              "      <td>45000</td>\n",
              "      <td>0</td>\n",
              "      <td>1</td>\n",
              "      <td>0</td>\n",
              "      <td>0</td>\n",
              "      <td>1</td>\n",
              "    </tr>\n",
              "  </tbody>\n",
              "</table>\n",
              "<p>61 rows × 8 columns</p>\n",
              "</div>"
            ],
            "text/plain": [
              "     Year  Present_Price  ...  Seller_Type_Individual  Transmission_Manual\n",
              "105     5           2.37  ...                       1                    1\n",
              "284     7           5.90  ...                       0                    1\n",
              "11      5          10.38  ...                       0                    1\n",
              "165     4           0.54  ...                       1                    0\n",
              "265     3           8.70  ...                       0                    1\n",
              "..    ...            ...  ...                     ...                  ...\n",
              "249     4           7.60  ...                       0                    1\n",
              "178     6           0.52  ...                       1                    0\n",
              "280     5           5.90  ...                       0                    1\n",
              "204     5           4.43  ...                       0                    1\n",
              "29      5          10.38  ...                       0                    1\n",
              "\n",
              "[61 rows x 8 columns]"
            ]
          },
          "metadata": {
            "tags": []
          },
          "execution_count": 49
        }
      ]
    },
    {
      "cell_type": "code",
      "metadata": {
        "id": "FFVCAw6E0664",
        "outputId": "b129a82b-f367-4833-96f3-4bd81fca5951",
        "colab": {
          "base_uri": "https://localhost:8080/"
        }
      },
      "source": [
        "Y_test"
      ],
      "execution_count": null,
      "outputs": [
        {
          "output_type": "execute_result",
          "data": {
            "text/plain": [
              "105    1.35\n",
              "284    3.50\n",
              "11     6.85\n",
              "165    0.45\n",
              "265    6.50\n",
              "       ... \n",
              "249    5.25\n",
              "178    0.35\n",
              "280    5.25\n",
              "204    2.75\n",
              "29     7.45\n",
              "Name: Selling_Price, Length: 61, dtype: float64"
            ]
          },
          "metadata": {
            "tags": []
          },
          "execution_count": 50
        }
      ]
    },
    {
      "cell_type": "code",
      "metadata": {
        "id": "E_IXNvwz0-j0"
      },
      "source": [
        "y = model.predict(X_test)"
      ],
      "execution_count": null,
      "outputs": []
    },
    {
      "cell_type": "code",
      "metadata": {
        "id": "9J-icZ6p13O0"
      },
      "source": [
        "y = pd.DataFrame(y)"
      ],
      "execution_count": null,
      "outputs": []
    },
    {
      "cell_type": "code",
      "metadata": {
        "id": "2EWxY_Nc1LQt",
        "outputId": "9fd3d272-fb15-40e4-e72e-a4d3a52e8a7e",
        "colab": {
          "base_uri": "https://localhost:8080/",
          "height": 297
        }
      },
      "source": [
        "import matplotlib.pyplot as plt\n",
        "import seaborn as sns \n",
        "diff = Y_test-y\n",
        "sns.histplot(diff)"
      ],
      "execution_count": null,
      "outputs": [
        {
          "output_type": "execute_result",
          "data": {
            "text/plain": [
              "<matplotlib.axes._subplots.AxesSubplot at 0x7f4707351438>"
            ]
          },
          "metadata": {
            "tags": []
          },
          "execution_count": 67
        },
        {
          "output_type": "display_data",
          "data": {
            "image/png": "[encoded data removed]",
            "text/plain": [
              "<Figure size 432x288 with 1 Axes>"
            ]
          },
          "metadata": {
            "tags": [],
            "needs_background": "light"
          }
        }
      ]
    },
    {
      "cell_type": "code",
      "metadata": {
        "id": "lpKLFwrJ1L4X"
      },
      "source": [
        ""
      ],
      "execution_count": null,
      "outputs": []
    }
  ]
}